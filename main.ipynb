{
 "cells": [
  {
   "cell_type": "code",
   "execution_count": 2,
   "metadata": {},
   "outputs": [],
   "source": [
    "import pandas as pd"
   ]
  },
  {
   "cell_type": "markdown",
   "metadata": {},
   "source": [
    "## Đọc file csv, join 2 dataframe"
   ]
  },
  {
   "cell_type": "code",
   "execution_count": 3,
   "metadata": {},
   "outputs": [],
   "source": [
    "job_skills = pd.read_csv('./job_skills.csv')\n",
    "linkedin_job_posting = pd.read_csv('./linkedin_job_postings.csv')\n",
    "linkedin_job_posting = pd.merge(linkedin_job_posting, job_skills, on='job_link', how = 'inner')"
   ]
  },
  {
   "cell_type": "code",
   "execution_count": 4,
   "metadata": {},
   "outputs": [
    {
     "name": "stdout",
     "output_type": "stream",
     "text": [
      "(1296381, 15)\n",
      "Index(['job_link', 'last_processed_time', 'got_summary', 'got_ner',\n",
      "       'is_being_worked', 'job_title', 'company', 'job_location', 'first_seen',\n",
      "       'search_city', 'search_country', 'search_position', 'job_level',\n",
      "       'job_type', 'job_skills'],\n",
      "      dtype='object')\n"
     ]
    }
   ],
   "source": [
    "print(linkedin_job_posting.shape)\n",
    "print(linkedin_job_posting.columns)"
   ]
  },
  {
   "cell_type": "code",
   "execution_count": 5,
   "metadata": {},
   "outputs": [
    {
     "name": "stdout",
     "output_type": "stream",
     "text": [
      "(1296381, 2)\n",
      "Index(['job_link', 'job_skills'], dtype='object')\n"
     ]
    }
   ],
   "source": [
    "print(job_skills.shape)\n",
    "print(job_skills.columns)"
   ]
  },
  {
   "cell_type": "code",
   "execution_count": 6,
   "metadata": {},
   "outputs": [
    {
     "data": {
      "text/html": [
       "<div>\n",
       "<style scoped>\n",
       "    .dataframe tbody tr th:only-of-type {\n",
       "        vertical-align: middle;\n",
       "    }\n",
       "\n",
       "    .dataframe tbody tr th {\n",
       "        vertical-align: top;\n",
       "    }\n",
       "\n",
       "    .dataframe thead th {\n",
       "        text-align: right;\n",
       "    }\n",
       "</style>\n",
       "<table border=\"1\" class=\"dataframe\">\n",
       "  <thead>\n",
       "    <tr style=\"text-align: right;\">\n",
       "      <th></th>\n",
       "      <th>job_link</th>\n",
       "      <th>last_processed_time</th>\n",
       "      <th>got_summary</th>\n",
       "      <th>got_ner</th>\n",
       "      <th>is_being_worked</th>\n",
       "      <th>job_title</th>\n",
       "      <th>company</th>\n",
       "      <th>job_location</th>\n",
       "      <th>first_seen</th>\n",
       "      <th>search_city</th>\n",
       "      <th>search_country</th>\n",
       "      <th>search_position</th>\n",
       "      <th>job_level</th>\n",
       "      <th>job_type</th>\n",
       "      <th>job_skills</th>\n",
       "    </tr>\n",
       "  </thead>\n",
       "  <tbody>\n",
       "    <tr>\n",
       "      <th>0</th>\n",
       "      <td>https://www.linkedin.com/jobs/view/account-exe...</td>\n",
       "      <td>2024-01-21 07:12:29.00256+00</td>\n",
       "      <td>t</td>\n",
       "      <td>t</td>\n",
       "      <td>f</td>\n",
       "      <td>Account Executive - Dispensing (NorCal/Norther...</td>\n",
       "      <td>BD</td>\n",
       "      <td>San Diego, CA</td>\n",
       "      <td>2024-01-15</td>\n",
       "      <td>Coronado</td>\n",
       "      <td>United States</td>\n",
       "      <td>Color Maker</td>\n",
       "      <td>Mid senior</td>\n",
       "      <td>Onsite</td>\n",
       "      <td>Medical equipment sales, Key competitors, Term...</td>\n",
       "    </tr>\n",
       "    <tr>\n",
       "      <th>1</th>\n",
       "      <td>https://www.linkedin.com/jobs/view/registered-...</td>\n",
       "      <td>2024-01-21 07:39:58.88137+00</td>\n",
       "      <td>t</td>\n",
       "      <td>t</td>\n",
       "      <td>f</td>\n",
       "      <td>Registered Nurse - RN Care Manager</td>\n",
       "      <td>Trinity Health MI</td>\n",
       "      <td>Norton Shores, MI</td>\n",
       "      <td>2024-01-14</td>\n",
       "      <td>Grand Haven</td>\n",
       "      <td>United States</td>\n",
       "      <td>Director Nursing Service</td>\n",
       "      <td>Mid senior</td>\n",
       "      <td>Onsite</td>\n",
       "      <td>Nursing, Bachelor of Science in Nursing, Maste...</td>\n",
       "    </tr>\n",
       "    <tr>\n",
       "      <th>2</th>\n",
       "      <td>https://www.linkedin.com/jobs/view/restaurant-...</td>\n",
       "      <td>2024-01-21 07:40:00.251126+00</td>\n",
       "      <td>t</td>\n",
       "      <td>t</td>\n",
       "      <td>f</td>\n",
       "      <td>RESTAURANT SUPERVISOR - THE FORKLIFT</td>\n",
       "      <td>Wasatch Adaptive Sports</td>\n",
       "      <td>Sandy, UT</td>\n",
       "      <td>2024-01-14</td>\n",
       "      <td>Tooele</td>\n",
       "      <td>United States</td>\n",
       "      <td>Stand-In</td>\n",
       "      <td>Mid senior</td>\n",
       "      <td>Onsite</td>\n",
       "      <td>Restaurant Operations Management, Inventory Ma...</td>\n",
       "    </tr>\n",
       "    <tr>\n",
       "      <th>3</th>\n",
       "      <td>https://www.linkedin.com/jobs/view/independent...</td>\n",
       "      <td>2024-01-21 07:40:00.308133+00</td>\n",
       "      <td>t</td>\n",
       "      <td>t</td>\n",
       "      <td>f</td>\n",
       "      <td>Independent Real Estate Agent</td>\n",
       "      <td>Howard Hanna | Rand Realty</td>\n",
       "      <td>Englewood Cliffs, NJ</td>\n",
       "      <td>2024-01-16</td>\n",
       "      <td>Pinehurst</td>\n",
       "      <td>United States</td>\n",
       "      <td>Real-Estate Clerk</td>\n",
       "      <td>Mid senior</td>\n",
       "      <td>Onsite</td>\n",
       "      <td>Real Estate, Customer Service, Sales, Negotiat...</td>\n",
       "    </tr>\n",
       "    <tr>\n",
       "      <th>4</th>\n",
       "      <td>https://www.linkedin.com/jobs/view/registered-...</td>\n",
       "      <td>2024-01-21 08:08:19.663033+00</td>\n",
       "      <td>t</td>\n",
       "      <td>t</td>\n",
       "      <td>f</td>\n",
       "      <td>Registered Nurse (RN)</td>\n",
       "      <td>Trinity Health MI</td>\n",
       "      <td>Muskegon, MI</td>\n",
       "      <td>2024-01-14</td>\n",
       "      <td>Muskegon</td>\n",
       "      <td>United States</td>\n",
       "      <td>Nurse Practitioner</td>\n",
       "      <td>Mid senior</td>\n",
       "      <td>Onsite</td>\n",
       "      <td>Nursing, BSN, Medical License, Virtual RN, Nur...</td>\n",
       "    </tr>\n",
       "  </tbody>\n",
       "</table>\n",
       "</div>"
      ],
      "text/plain": [
       "                                            job_link  \\\n",
       "0  https://www.linkedin.com/jobs/view/account-exe...   \n",
       "1  https://www.linkedin.com/jobs/view/registered-...   \n",
       "2  https://www.linkedin.com/jobs/view/restaurant-...   \n",
       "3  https://www.linkedin.com/jobs/view/independent...   \n",
       "4  https://www.linkedin.com/jobs/view/registered-...   \n",
       "\n",
       "             last_processed_time got_summary got_ner is_being_worked  \\\n",
       "0   2024-01-21 07:12:29.00256+00           t       t               f   \n",
       "1   2024-01-21 07:39:58.88137+00           t       t               f   \n",
       "2  2024-01-21 07:40:00.251126+00           t       t               f   \n",
       "3  2024-01-21 07:40:00.308133+00           t       t               f   \n",
       "4  2024-01-21 08:08:19.663033+00           t       t               f   \n",
       "\n",
       "                                           job_title  \\\n",
       "0  Account Executive - Dispensing (NorCal/Norther...   \n",
       "1                 Registered Nurse - RN Care Manager   \n",
       "2               RESTAURANT SUPERVISOR - THE FORKLIFT   \n",
       "3                      Independent Real Estate Agent   \n",
       "4                              Registered Nurse (RN)   \n",
       "\n",
       "                      company          job_location  first_seen  search_city  \\\n",
       "0                          BD         San Diego, CA  2024-01-15     Coronado   \n",
       "1           Trinity Health MI     Norton Shores, MI  2024-01-14  Grand Haven   \n",
       "2     Wasatch Adaptive Sports             Sandy, UT  2024-01-14       Tooele   \n",
       "3  Howard Hanna | Rand Realty  Englewood Cliffs, NJ  2024-01-16    Pinehurst   \n",
       "4           Trinity Health MI          Muskegon, MI  2024-01-14     Muskegon   \n",
       "\n",
       "  search_country           search_position   job_level job_type  \\\n",
       "0  United States               Color Maker  Mid senior   Onsite   \n",
       "1  United States  Director Nursing Service  Mid senior   Onsite   \n",
       "2  United States                  Stand-In  Mid senior   Onsite   \n",
       "3  United States         Real-Estate Clerk  Mid senior   Onsite   \n",
       "4  United States        Nurse Practitioner  Mid senior   Onsite   \n",
       "\n",
       "                                          job_skills  \n",
       "0  Medical equipment sales, Key competitors, Term...  \n",
       "1  Nursing, Bachelor of Science in Nursing, Maste...  \n",
       "2  Restaurant Operations Management, Inventory Ma...  \n",
       "3  Real Estate, Customer Service, Sales, Negotiat...  \n",
       "4  Nursing, BSN, Medical License, Virtual RN, Nur...  "
      ]
     },
     "execution_count": 6,
     "metadata": {},
     "output_type": "execute_result"
    }
   ],
   "source": [
    "linkedin_job_posting.head()"
   ]
  },
  {
   "cell_type": "markdown",
   "metadata": {},
   "source": [
    "## Chuẩn hóa dữ liệu"
   ]
  },
  {
   "cell_type": "code",
   "execution_count": 7,
   "metadata": {},
   "outputs": [
    {
     "name": "stdout",
     "output_type": "stream",
     "text": [
      "job_link                  0\n",
      "last_processed_time       0\n",
      "got_summary               0\n",
      "got_ner                   0\n",
      "is_being_worked           0\n",
      "job_title                 0\n",
      "company                   9\n",
      "job_location             19\n",
      "first_seen                0\n",
      "search_city               0\n",
      "search_country            0\n",
      "search_position           0\n",
      "job_level                 0\n",
      "job_type                  0\n",
      "job_skills             2085\n",
      "dtype: int64\n",
      "job_link               0\n",
      "last_processed_time    0\n",
      "got_summary            0\n",
      "got_ner                0\n",
      "is_being_worked        0\n",
      "job_title              0\n",
      "company                0\n",
      "job_location           0\n",
      "first_seen             0\n",
      "search_city            0\n",
      "search_country         0\n",
      "search_position        0\n",
      "job_level              0\n",
      "job_type               0\n",
      "job_skills             0\n",
      "dtype: int64\n",
      "(1294268, 15)\n"
     ]
    }
   ],
   "source": [
    "print(linkedin_job_posting.isna().sum())\n",
    "linkedin_job_posting = linkedin_job_posting.dropna()\n",
    "print(linkedin_job_posting.isna().sum())\n",
    "print(linkedin_job_posting.shape)"
   ]
  },
  {
   "cell_type": "code",
   "execution_count": 8,
   "metadata": {},
   "outputs": [],
   "source": [
    "linkedin_job_posting = linkedin_job_posting.map(lambda s:s.lower() if type(s) == str else s)\n",
    "linkedin_job_posting = linkedin_job_posting.replace({' & ': ' and '}, regex=True)"
   ]
  },
  {
   "cell_type": "code",
   "execution_count": 9,
   "metadata": {},
   "outputs": [],
   "source": [
    "def itr_skills(row):\n",
    "    \n",
    "    skills = row['job_skills'].split(', ')\n",
    "    skills = [skills for skills in skills if len(skills) >= 3]\n",
    "    \n",
    "    return skills\n",
    "\n",
    "linkedin_job_posting['skills'] = linkedin_job_posting.apply(itr_skills, axis=1)"
   ]
  },
  {
   "cell_type": "code",
   "execution_count": 10,
   "metadata": {},
   "outputs": [],
   "source": [
    "linkedin_job_posting.drop(['job_skills'], axis=1, inplace=True)\n",
    "linkedin_job_posting = linkedin_job_posting.rename(columns={'skills': 'job_skills'})"
   ]
  },
  {
   "cell_type": "markdown",
   "metadata": {},
   "source": [
    "## Xu hướng thời điểm đăng tin tuyển dụng "
   ]
  },
  {
   "cell_type": "code",
   "execution_count": 12,
   "metadata": {},
   "outputs": [],
   "source": [
    "import matplotlib.pyplot as plt\n",
    "import seaborn as sns"
   ]
  },
  {
   "cell_type": "code",
   "execution_count": 13,
   "metadata": {},
   "outputs": [
    {
     "data": {
      "image/png": "[encoded data removed]",
      "text/plain": [
       "<Figure size 1000x600 with 1 Axes>"
      ]
     },
     "metadata": {},
     "output_type": "display_data"
    }
   ],
   "source": [
    "sns.set_theme(style=\"whitegrid\")\n",
    "plt.figure(figsize=(10, 6))\n",
    "linkedin_job_posting['first_seen'].value_counts().sort_index().plot(kind='line', linewidth=3)\n",
    "plt.title('Job Posting Trends Over Time')\n",
    "plt.xlabel('Date')\n",
    "plt.ylabel('Number of Job Postings')\n",
    "plt.show()"
   ]
  },
  {
   "cell_type": "markdown",
   "metadata": {},
   "source": [
    "## Top Skills theo từng công việc"
   ]
  },
  {
   "cell_type": "code",
   "execution_count": 14,
   "metadata": {},
   "outputs": [],
   "source": [
    "from collections import Counter"
   ]
  },
  {
   "cell_type": "code",
   "execution_count": null,
   "metadata": {},
   "outputs": [],
   "source": [
    "df = linkedin_job_posting\n",
    "\n",
    "grouped_skills = df.groupby('job_title')['job_skills'].sum()\n",
    "\n",
    "grouped_skills.head()"
   ]
  },
  {
   "cell_type": "code",
   "execution_count": null,
   "metadata": {},
   "outputs": [],
   "source": [
    "most_common_skills = grouped_skills.apply(lambda x: Counter(x).most_common(5))"
   ]
  },
  {
   "cell_type": "code",
   "execution_count": 30,
   "metadata": {},
   "outputs": [
    {
     "data": {
      "text/html": [
       "<div>\n",
       "<style scoped>\n",
       "    .dataframe tbody tr th:only-of-type {\n",
       "        vertical-align: middle;\n",
       "    }\n",
       "\n",
       "    .dataframe tbody tr th {\n",
       "        vertical-align: top;\n",
       "    }\n",
       "\n",
       "    .dataframe thead th {\n",
       "        text-align: right;\n",
       "    }\n",
       "</style>\n",
       "<table border=\"1\" class=\"dataframe\">\n",
       "  <thead>\n",
       "    <tr style=\"text-align: right;\">\n",
       "      <th></th>\n",
       "      <th>job_title</th>\n",
       "      <th>job_skills</th>\n",
       "    </tr>\n",
       "  </thead>\n",
       "  <tbody>\n",
       "    <tr>\n",
       "      <th>0</th>\n",
       "      <td>\"a\" softball coach - central middle school</td>\n",
       "      <td>[(softball coaching, 1), (coaching experience,...</td>\n",
       "    </tr>\n",
       "    <tr>\n",
       "      <th>1</th>\n",
       "      <td>\"accountant\"</td>\n",
       "      <td>[(accounting, 2), (attention to detail, 1), (j...</td>\n",
       "    </tr>\n",
       "    <tr>\n",
       "      <th>2</th>\n",
       "      <td>\"attorney\" (gov appt/non-merit) jobs</td>\n",
       "      <td>[(law, 1), (state and federal laws rules and r...</td>\n",
       "    </tr>\n",
       "    <tr>\n",
       "      <th>3</th>\n",
       "      <td>\"b\" baseball coach - central middle school</td>\n",
       "      <td>[(baseball coaching, 1), (coaching experience,...</td>\n",
       "    </tr>\n",
       "    <tr>\n",
       "      <th>4</th>\n",
       "      <td>\"full time\" sales assistant, westboro location...</td>\n",
       "      <td>[(sales, 1), (merchandising, 1), (marketing, 1...</td>\n",
       "    </tr>\n",
       "  </tbody>\n",
       "</table>\n",
       "</div>"
      ],
      "text/plain": [
       "                                           job_title  \\\n",
       "0         \"a\" softball coach - central middle school   \n",
       "1                                       \"accountant\"   \n",
       "2               \"attorney\" (gov appt/non-merit) jobs   \n",
       "3         \"b\" baseball coach - central middle school   \n",
       "4  \"full time\" sales assistant, westboro location...   \n",
       "\n",
       "                                          job_skills  \n",
       "0  [(softball coaching, 1), (coaching experience,...  \n",
       "1  [(accounting, 2), (attention to detail, 1), (j...  \n",
       "2  [(law, 1), (state and federal laws rules and r...  \n",
       "3  [(baseball coaching, 1), (coaching experience,...  \n",
       "4  [(sales, 1), (merchandising, 1), (marketing, 1...  "
      ]
     },
     "execution_count": 30,
     "metadata": {},
     "output_type": "execute_result"
    }
   ],
   "source": [
    "common_skills_df = most_common_skills.reset_index()\n",
    "common_skills_df.head()"
   ]
  },
  {
   "cell_type": "code",
   "execution_count": 55,
   "metadata": {},
   "outputs": [],
   "source": [
    "common_skills_df.to_csv('top_skills_job.csv', index=False)"
   ]
  }
 ],
 "metadata": {
  "kernelspec": {
   "display_name": "Python 3",
   "language": "python",
   "name": "python3"
  },
  "language_info": {
   "codemirror_mode": {
    "name": "ipython",
    "version": 3
   },
   "file_extension": ".py",
   "mimetype": "text/x-python",
   "name": "python",
   "nbconvert_exporter": "python",
   "pygments_lexer": "ipython3",
   "version": "3.11.3"
  }
 },
 "nbformat": 4,
 "nbformat_minor": 2
}

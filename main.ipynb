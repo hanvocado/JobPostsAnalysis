{
 "cells": [
  {
   "cell_type": "code",
   "execution_count": 2,
   "metadata": {},
   "outputs": [],
   "source": [
    "import pandas as pd"
   ]
  },
  {
   "cell_type": "markdown",
   "metadata": {},
   "source": [
    "## Đọc file csv, join 2 dataframe"
   ]
  },
  {
   "cell_type": "code",
   "execution_count": 3,
   "metadata": {},
   "outputs": [],
   "source": [
    "job_skills = pd.read_csv('./job_skills.csv')\n",
    "linkedin_job_posting = pd.read_csv('./linkedin_job_postings.csv')\n",
    "linkedin_job_posting = pd.merge(linkedin_job_posting, job_skills, on='job_link', how = 'inner')"
   ]
  },
  {
   "cell_type": "code",
   "execution_count": 4,
   "metadata": {},
   "outputs": [
    {
     "name": "stdout",
     "output_type": "stream",
     "text": [
      "(1048575, 15)\n",
      "Index(['job_link', 'last_processed_time', 'got_summary', 'got_ner',\n",
      "       'is_being_worked', 'job_title', 'company', 'job_location', 'first_seen',\n",
      "       'search_city', 'search_country', 'search_position', 'job_level',\n",
      "       'job_type', 'job_skills'],\n",
      "      dtype='object')\n"
     ]
    }
   ],
   "source": [
    "print(linkedin_job_posting.shape)\n",
    "print(linkedin_job_posting.columns)"
   ]
  },
  {
   "cell_type": "code",
   "execution_count": 5,
   "metadata": {},
   "outputs": [
    {
     "name": "stdout",
     "output_type": "stream",
     "text": [
      "(1048575, 2)\n",
      "Index(['job_link', 'job_skills'], dtype='object')\n"
     ]
    }
   ],
   "source": [
    "print(job_skills.shape)\n",
    "print(job_skills.columns)"
   ]
  },
  {
   "cell_type": "code",
   "execution_count": 6,
   "metadata": {},
   "outputs": [
    {
     "data": {
      "text/html": [
       "<div>\n",
       "<style scoped>\n",
       "    .dataframe tbody tr th:only-of-type {\n",
       "        vertical-align: middle;\n",
       "    }\n",
       "\n",
       "    .dataframe tbody tr th {\n",
       "        vertical-align: top;\n",
       "    }\n",
       "\n",
       "    .dataframe thead th {\n",
       "        text-align: right;\n",
       "    }\n",
       "</style>\n",
       "<table border=\"1\" class=\"dataframe\">\n",
       "  <thead>\n",
       "    <tr style=\"text-align: right;\">\n",
       "      <th></th>\n",
       "      <th>job_link</th>\n",
       "      <th>last_processed_time</th>\n",
       "      <th>got_summary</th>\n",
       "      <th>got_ner</th>\n",
       "      <th>is_being_worked</th>\n",
       "      <th>job_title</th>\n",
       "      <th>company</th>\n",
       "      <th>job_location</th>\n",
       "      <th>first_seen</th>\n",
       "      <th>search_city</th>\n",
       "      <th>search_country</th>\n",
       "      <th>search_position</th>\n",
       "      <th>job_level</th>\n",
       "      <th>job_type</th>\n",
       "      <th>job_skills</th>\n",
       "    </tr>\n",
       "  </thead>\n",
       "  <tbody>\n",
       "    <tr>\n",
       "      <th>0</th>\n",
       "      <td>https://www.linkedin.com/jobs/view/triage-rn-m...</td>\n",
       "      <td>2024-01-19 14:39:50.208885+00</td>\n",
       "      <td>t</td>\n",
       "      <td>t</td>\n",
       "      <td>f</td>\n",
       "      <td>Triage RN- Michigan Heart AA office</td>\n",
       "      <td>Trinity Health</td>\n",
       "      <td>Ypsilanti, MI</td>\n",
       "      <td>2024-01-15</td>\n",
       "      <td>Monroe</td>\n",
       "      <td>United States</td>\n",
       "      <td>Cardiologist</td>\n",
       "      <td>Mid senior</td>\n",
       "      <td>Onsite</td>\n",
       "      <td>Cardiac Nursing, Patient Education, Liaison, M...</td>\n",
       "    </tr>\n",
       "    <tr>\n",
       "      <th>1</th>\n",
       "      <td>https://www.linkedin.com/jobs/view/finance-man...</td>\n",
       "      <td>2024-01-19 14:39:50.288894+00</td>\n",
       "      <td>t</td>\n",
       "      <td>t</td>\n",
       "      <td>f</td>\n",
       "      <td>Finance Manager</td>\n",
       "      <td>Aston Carter</td>\n",
       "      <td>Southlake, TX</td>\n",
       "      <td>2024-01-17</td>\n",
       "      <td>Corinth</td>\n",
       "      <td>United States</td>\n",
       "      <td>Supervisor Line Department</td>\n",
       "      <td>Mid senior</td>\n",
       "      <td>Onsite</td>\n",
       "      <td>Budgeting, Budgeting Analytics, Cognos, Data A...</td>\n",
       "    </tr>\n",
       "    <tr>\n",
       "      <th>2</th>\n",
       "      <td>https://www.linkedin.com/jobs/view/ultrasound-...</td>\n",
       "      <td>2024-01-19 14:39:50.450851+00</td>\n",
       "      <td>t</td>\n",
       "      <td>t</td>\n",
       "      <td>f</td>\n",
       "      <td>Ultrasound Technologist- Registered</td>\n",
       "      <td>Opelousas General Health System</td>\n",
       "      <td>Opelousas, LA</td>\n",
       "      <td>2024-01-14</td>\n",
       "      <td>Lafayette</td>\n",
       "      <td>United States</td>\n",
       "      <td>Manager Employment</td>\n",
       "      <td>Mid senior</td>\n",
       "      <td>Onsite</td>\n",
       "      <td>CPR, Registered Vascular Technologist, Registe...</td>\n",
       "    </tr>\n",
       "    <tr>\n",
       "      <th>3</th>\n",
       "      <td>https://www.linkedin.com/jobs/view/licensed-cl...</td>\n",
       "      <td>2024-01-19 14:39:51.418106+00</td>\n",
       "      <td>t</td>\n",
       "      <td>t</td>\n",
       "      <td>f</td>\n",
       "      <td>Licensed Clinical Psychologist - Outpatient - ...</td>\n",
       "      <td>LifeStance Health</td>\n",
       "      <td>Woodburn, OR</td>\n",
       "      <td>2024-01-15</td>\n",
       "      <td>Beaverton</td>\n",
       "      <td>United States</td>\n",
       "      <td>Clinical Psychologist</td>\n",
       "      <td>Mid senior</td>\n",
       "      <td>Onsite</td>\n",
       "      <td>Clinical Psychology, Hybrid Model, Telemedicin...</td>\n",
       "    </tr>\n",
       "    <tr>\n",
       "      <th>4</th>\n",
       "      <td>https://www.linkedin.com/jobs/view/department-...</td>\n",
       "      <td>2024-01-19 14:39:52.158156+00</td>\n",
       "      <td>t</td>\n",
       "      <td>t</td>\n",
       "      <td>f</td>\n",
       "      <td>Department Manager up to $37,000/yr</td>\n",
       "      <td>McDonald's</td>\n",
       "      <td>Anderson, SC</td>\n",
       "      <td>2024-01-14</td>\n",
       "      <td>Anderson</td>\n",
       "      <td>United States</td>\n",
       "      <td>Manager Department</td>\n",
       "      <td>Mid senior</td>\n",
       "      <td>Onsite</td>\n",
       "      <td>Customer service, Food safety, Inventory manag...</td>\n",
       "    </tr>\n",
       "  </tbody>\n",
       "</table>\n",
       "</div>"
      ],
      "text/plain": [
       "                                            job_link  \\\n",
       "0  https://www.linkedin.com/jobs/view/triage-rn-m...   \n",
       "1  https://www.linkedin.com/jobs/view/finance-man...   \n",
       "2  https://www.linkedin.com/jobs/view/ultrasound-...   \n",
       "3  https://www.linkedin.com/jobs/view/licensed-cl...   \n",
       "4  https://www.linkedin.com/jobs/view/department-...   \n",
       "\n",
       "             last_processed_time got_summary got_ner is_being_worked  \\\n",
       "0  2024-01-19 14:39:50.208885+00           t       t               f   \n",
       "1  2024-01-19 14:39:50.288894+00           t       t               f   \n",
       "2  2024-01-19 14:39:50.450851+00           t       t               f   \n",
       "3  2024-01-19 14:39:51.418106+00           t       t               f   \n",
       "4  2024-01-19 14:39:52.158156+00           t       t               f   \n",
       "\n",
       "                                           job_title  \\\n",
       "0                Triage RN- Michigan Heart AA office   \n",
       "1                                    Finance Manager   \n",
       "2                Ultrasound Technologist- Registered   \n",
       "3  Licensed Clinical Psychologist - Outpatient - ...   \n",
       "4                Department Manager up to $37,000/yr   \n",
       "\n",
       "                           company   job_location  first_seen search_city  \\\n",
       "0                   Trinity Health  Ypsilanti, MI  2024-01-15      Monroe   \n",
       "1                     Aston Carter  Southlake, TX  2024-01-17     Corinth   \n",
       "2  Opelousas General Health System  Opelousas, LA  2024-01-14   Lafayette   \n",
       "3                LifeStance Health   Woodburn, OR  2024-01-15   Beaverton   \n",
       "4                       McDonald's   Anderson, SC  2024-01-14    Anderson   \n",
       "\n",
       "  search_country             search_position   job_level job_type  \\\n",
       "0  United States                Cardiologist  Mid senior   Onsite   \n",
       "1  United States  Supervisor Line Department  Mid senior   Onsite   \n",
       "2  United States          Manager Employment  Mid senior   Onsite   \n",
       "3  United States       Clinical Psychologist  Mid senior   Onsite   \n",
       "4  United States          Manager Department  Mid senior   Onsite   \n",
       "\n",
       "                                          job_skills  \n",
       "0  Cardiac Nursing, Patient Education, Liaison, M...  \n",
       "1  Budgeting, Budgeting Analytics, Cognos, Data A...  \n",
       "2  CPR, Registered Vascular Technologist, Registe...  \n",
       "3  Clinical Psychology, Hybrid Model, Telemedicin...  \n",
       "4  Customer service, Food safety, Inventory manag...  "
      ]
     },
     "execution_count": 6,
     "metadata": {},
     "output_type": "execute_result"
    }
   ],
   "source": [
    "linkedin_job_posting.head()"
   ]
  },
  {
   "cell_type": "markdown",
   "metadata": {},
   "source": [
    "## Chuẩn hóa dữ liệu"
   ]
  },
  {
   "cell_type": "code",
   "execution_count": 7,
   "metadata": {},
   "outputs": [
    {
     "name": "stdout",
     "output_type": "stream",
     "text": [
      "job_link                  0\n",
      "last_processed_time       0\n",
      "got_summary               0\n",
      "got_ner                   0\n",
      "is_being_worked           0\n",
      "job_title                 0\n",
      "company                   8\n",
      "job_location             16\n",
      "first_seen                0\n",
      "search_city               0\n",
      "search_country            0\n",
      "search_position           0\n",
      "job_level                 0\n",
      "job_type                  0\n",
      "job_skills             1416\n",
      "dtype: int64\n",
      "job_link               0\n",
      "last_processed_time    0\n",
      "got_summary            0\n",
      "got_ner                0\n",
      "is_being_worked        0\n",
      "job_title              0\n",
      "company                0\n",
      "job_location           0\n",
      "first_seen             0\n",
      "search_city            0\n",
      "search_country         0\n",
      "search_position        0\n",
      "job_level              0\n",
      "job_type               0\n",
      "job_skills             0\n",
      "dtype: int64\n",
      "(1047135, 15)\n"
     ]
    }
   ],
   "source": [
    "print(linkedin_job_posting.isna().sum())\n",
    "linkedin_job_posting = linkedin_job_posting.dropna()\n",
    "print(linkedin_job_posting.isna().sum())\n",
    "print(linkedin_job_posting.shape)"
   ]
  },
  {
   "cell_type": "code",
   "execution_count": 8,
   "metadata": {},
   "outputs": [],
   "source": [
    "linkedin_job_posting = linkedin_job_posting.map(lambda s:s.lower() if type(s) == str else s)\n",
    "linkedin_job_posting = linkedin_job_posting.replace({' & ': ' and '}, regex=True)"
   ]
  },
  {
   "cell_type": "code",
   "execution_count": 9,
   "metadata": {},
   "outputs": [],
   "source": [
    "def itr_skills(row):\n",
    "    \n",
    "    skills = row['job_skills'].split(', ')\n",
    "    skills = [skills for skills in skills if len(skills) >= 3]\n",
    "    \n",
    "    return skills\n",
    "\n",
    "linkedin_job_posting['skills'] = linkedin_job_posting.apply(itr_skills, axis=1)"
   ]
  },
  {
   "cell_type": "code",
   "execution_count": 10,
   "metadata": {},
   "outputs": [],
   "source": [
    "linkedin_job_posting.drop(['job_skills'], axis=1, inplace=True)\n",
    "linkedin_job_posting = linkedin_job_posting.rename(columns={'skills': 'job_skills'})"
   ]
  },
  {
   "cell_type": "markdown",
   "metadata": {},
   "source": [
    "## Top Skills theo từng công việc"
   ]
  },
  {
   "cell_type": "code",
   "execution_count": 13,
   "metadata": {},
   "outputs": [],
   "source": [
    "from collections import Counter"
   ]
  },
  {
   "cell_type": "code",
   "execution_count": 14,
   "metadata": {},
   "outputs": [
    {
     "data": {
      "text/plain": [
       "job_title\n",
       "\"a\" softball coach - central middle school                [softball coaching, coaching experience, under...\n",
       "\"accountant\"                                              [attention to detail, journal entries, account...\n",
       "\"attorney\" (gov appt/non-merit) jobs                      [law, state and federal laws rules and regulat...\n",
       "\"b\" baseball coach - central middle school                [baseball coaching, coaching experience, under...\n",
       "\"full time\" sales assistant, westboro location, ottawa    [sales, merchandising, marketing, baking, cust...\n",
       "Name: job_skills, dtype: object"
      ]
     },
     "execution_count": 14,
     "metadata": {},
     "output_type": "execute_result"
    }
   ],
   "source": [
    "df = linkedin_job_posting\n",
    "\n",
    "grouped_skills = df.groupby('job_title')['job_skills'].sum()\n",
    "\n",
    "grouped_skills.head()"
   ]
  },
  {
   "cell_type": "code",
   "execution_count": 15,
   "metadata": {},
   "outputs": [],
   "source": [
    "most_common_skills = grouped_skills.apply(lambda x: Counter(x).most_common(5))"
   ]
  },
  {
   "cell_type": "code",
   "execution_count": 16,
   "metadata": {},
   "outputs": [
    {
     "data": {
      "text/html": [
       "<div>\n",
       "<style scoped>\n",
       "    .dataframe tbody tr th:only-of-type {\n",
       "        vertical-align: middle;\n",
       "    }\n",
       "\n",
       "    .dataframe tbody tr th {\n",
       "        vertical-align: top;\n",
       "    }\n",
       "\n",
       "    .dataframe thead th {\n",
       "        text-align: right;\n",
       "    }\n",
       "</style>\n",
       "<table border=\"1\" class=\"dataframe\">\n",
       "  <thead>\n",
       "    <tr style=\"text-align: right;\">\n",
       "      <th></th>\n",
       "      <th>job_title</th>\n",
       "      <th>job_skills</th>\n",
       "    </tr>\n",
       "  </thead>\n",
       "  <tbody>\n",
       "    <tr>\n",
       "      <th>0</th>\n",
       "      <td>\"a\" softball coach - central middle school</td>\n",
       "      <td>[(softball coaching, 1), (coaching experience,...</td>\n",
       "    </tr>\n",
       "    <tr>\n",
       "      <th>1</th>\n",
       "      <td>\"accountant\"</td>\n",
       "      <td>[(accounting, 2), (attention to detail, 1), (j...</td>\n",
       "    </tr>\n",
       "    <tr>\n",
       "      <th>2</th>\n",
       "      <td>\"attorney\" (gov appt/non-merit) jobs</td>\n",
       "      <td>[(law, 1), (state and federal laws rules and r...</td>\n",
       "    </tr>\n",
       "    <tr>\n",
       "      <th>3</th>\n",
       "      <td>\"b\" baseball coach - central middle school</td>\n",
       "      <td>[(baseball coaching, 1), (coaching experience,...</td>\n",
       "    </tr>\n",
       "    <tr>\n",
       "      <th>4</th>\n",
       "      <td>\"full time\" sales assistant, westboro location...</td>\n",
       "      <td>[(sales, 1), (merchandising, 1), (marketing, 1...</td>\n",
       "    </tr>\n",
       "  </tbody>\n",
       "</table>\n",
       "</div>"
      ],
      "text/plain": [
       "                                           job_title  \\\n",
       "0         \"a\" softball coach - central middle school   \n",
       "1                                       \"accountant\"   \n",
       "2               \"attorney\" (gov appt/non-merit) jobs   \n",
       "3         \"b\" baseball coach - central middle school   \n",
       "4  \"full time\" sales assistant, westboro location...   \n",
       "\n",
       "                                          job_skills  \n",
       "0  [(softball coaching, 1), (coaching experience,...  \n",
       "1  [(accounting, 2), (attention to detail, 1), (j...  \n",
       "2  [(law, 1), (state and federal laws rules and r...  \n",
       "3  [(baseball coaching, 1), (coaching experience,...  \n",
       "4  [(sales, 1), (merchandising, 1), (marketing, 1...  "
      ]
     },
     "execution_count": 16,
     "metadata": {},
     "output_type": "execute_result"
    }
   ],
   "source": [
    "common_skills_df = most_common_skills.reset_index()\n",
    "common_skills_df.head()"
   ]
  },
  {
   "cell_type": "code",
   "execution_count": 17,
   "metadata": {},
   "outputs": [],
   "source": [
    "common_skills_df.to_csv('top_skills_job.csv', index=False)"
   ]
  },
  {
   "cell_type": "markdown",
   "metadata": {},
   "source": [
    "## Top công việc theo từng quốc gia"
   ]
  },
  {
   "cell_type": "code",
   "execution_count": 18,
   "metadata": {},
   "outputs": [],
   "source": [
    "from collections import Counter"
   ]
  },
  {
   "cell_type": "code",
   "execution_count": 42,
   "metadata": {},
   "outputs": [
    {
     "data": {
      "text/plain": [
       "0                    triage rn- michigan heart aa office\n",
       "1                                        finance manager\n",
       "2                    ultrasound technologist- registered\n",
       "3      licensed clinical psychologist - outpatient - ...\n",
       "4                    department manager up to $37,000/yr\n",
       "11     cibc | analyste principal, intégration des cli...\n",
       "15                                           staff nurse\n",
       "37                                     financial adviser\n",
       "49     senior structual engineer / stress engineer in...\n",
       "63     sales executive ( health information systems) ...\n",
       "87                       mortgage and protection adviser\n",
       "107                  assistant manager - sherway gardens\n",
       "135    general practitioner | ipswich dpa | skin canc...\n",
       "212                emergency medicine physician adelaide\n",
       "232     construction supervisor [the shaw group limited]\n",
       "282    human resources manager - sunnybrook departmen...\n",
       "292                                   warehouse operator\n",
       "298    strategic account manager - staples promotiona...\n",
       "332                                     sales consultant\n",
       "335                                   registered midwife\n",
       "Name: job_title, dtype: object"
      ]
     },
     "execution_count": 42,
     "metadata": {},
     "output_type": "execute_result"
    }
   ],
   "source": [
    "df = linkedin_job_posting\n",
    "grouped_countries = df.groupby('search_country')['job_title']\n",
    "\n",
    "grouped_countries.head()"
   ]
  },
  {
   "cell_type": "code",
   "execution_count": 43,
   "metadata": {},
   "outputs": [],
   "source": [
    "most_common_jobs = grouped_countries.apply(lambda x: Counter(x).most_common(10))"
   ]
  },
  {
   "cell_type": "code",
   "execution_count": 46,
   "metadata": {},
   "outputs": [
    {
     "data": {
      "text/html": [
       "<div>\n",
       "<style scoped>\n",
       "    .dataframe tbody tr th:only-of-type {\n",
       "        vertical-align: middle;\n",
       "    }\n",
       "\n",
       "    .dataframe tbody tr th {\n",
       "        vertical-align: top;\n",
       "    }\n",
       "\n",
       "    .dataframe thead th {\n",
       "        text-align: right;\n",
       "    }\n",
       "</style>\n",
       "<table border=\"1\" class=\"dataframe\">\n",
       "  <thead>\n",
       "    <tr style=\"text-align: right;\">\n",
       "      <th></th>\n",
       "      <th>search_country</th>\n",
       "      <th>job_title</th>\n",
       "    </tr>\n",
       "  </thead>\n",
       "  <tbody>\n",
       "    <tr>\n",
       "      <th>0</th>\n",
       "      <td>australia</td>\n",
       "      <td>[(registered nurse, 196), (senior educator, 11...</td>\n",
       "    </tr>\n",
       "    <tr>\n",
       "      <th>1</th>\n",
       "      <td>canada</td>\n",
       "      <td>[(customer service representative, 210), (regi...</td>\n",
       "    </tr>\n",
       "    <tr>\n",
       "      <th>2</th>\n",
       "      <td>united kingdom</td>\n",
       "      <td>[(registered nurse, 539), (customer service ad...</td>\n",
       "    </tr>\n",
       "    <tr>\n",
       "      <th>3</th>\n",
       "      <td>united states</td>\n",
       "      <td>[(customer service representative, 7194), (lea...</td>\n",
       "    </tr>\n",
       "  </tbody>\n",
       "</table>\n",
       "</div>"
      ],
      "text/plain": [
       "   search_country                                          job_title\n",
       "0       australia  [(registered nurse, 196), (senior educator, 11...\n",
       "1          canada  [(customer service representative, 210), (regi...\n",
       "2  united kingdom  [(registered nurse, 539), (customer service ad...\n",
       "3   united states  [(customer service representative, 7194), (lea..."
      ]
     },
     "execution_count": 46,
     "metadata": {},
     "output_type": "execute_result"
    }
   ],
   "source": [
    "common_jobs_df = most_common_jobs.reset_index()\n",
    "common_jobs_df.head()"
   ]
  },
  {
   "cell_type": "code",
   "execution_count": 47,
   "metadata": {},
   "outputs": [],
   "source": [
    "common_jobs_df.to_csv('top_jobs_country.csv', index=False)"
   ]
  }
 ],
 "metadata": {
  "kernelspec": {
   "display_name": "Python 3",
   "language": "python",
   "name": "python3"
  },
  "language_info": {
   "codemirror_mode": {
    "name": "ipython",
    "version": 3
   },
   "file_extension": ".py",
   "mimetype": "text/x-python",
   "name": "python",
   "nbconvert_exporter": "python",
   "pygments_lexer": "ipython3",
   "version": "3.10.9"
  }
 },
 "nbformat": 4,
 "nbformat_minor": 2
}
